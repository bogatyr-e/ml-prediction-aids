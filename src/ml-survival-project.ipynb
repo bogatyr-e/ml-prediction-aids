{
 "cells": [
  {
   "cell_type": "code",
   "execution_count": 1,
   "metadata": {},
   "outputs": [],
   "source": [
    "import warnings\n",
    "warnings.filterwarnings(\"ignore\")\n",
    "\n",
    "import pandas as pd\n",
    "\n",
    "\n",
    "# testdaten für die presi holen\n",
    "import os\n",
    "os.getcwd()\n",
    "os.chdir(os.path.abspath(os.path.join(os.getcwd(), os.pardir)))\n",
    "\n",
    "aidspresi = pd.read_csv('data/aids.csv', sep =\",\")"
   ]
  },
  {
   "cell_type": "code",
   "execution_count": 2,
   "metadata": {},
   "outputs": [
    {
     "data": {
      "text/plain": [
       "(2139, 25)"
      ]
     },
     "execution_count": 2,
     "metadata": {},
     "output_type": "execute_result"
    }
   ],
   "source": [
    "aidspresi.shape"
   ]
  },
  {
   "cell_type": "code",
   "execution_count": 3,
   "metadata": {},
   "outputs": [],
   "source": [
    "aidspresi = aidspresi.drop([\"num\",\"time\",\"oprior\",\"z30\",\"preanti\",\"str2\",\"treat\",\"offtrt\",\"cd40\",\"cd420\",\"cd820\"],axis=1)"
   ]
  },
  {
   "cell_type": "code",
   "execution_count": 4,
   "metadata": {},
   "outputs": [
    {
     "data": {
      "text/plain": [
       "(14,)"
      ]
     },
     "execution_count": 4,
     "metadata": {},
     "output_type": "execute_result"
    }
   ],
   "source": [
    "aidspresi.columns.shape"
   ]
  },
  {
   "cell_type": "code",
   "execution_count": 5,
   "metadata": {},
   "outputs": [
    {
     "data": {
      "text/plain": [
       "Index(['trt', 'age', 'wtkg', 'hemo', 'homo', 'drugs', 'karnof', 'zprior',\n",
       "       'race', 'gender', 'strat', 'symptom', 'cd80', 'cid'],\n",
       "      dtype='object')"
      ]
     },
     "execution_count": 5,
     "metadata": {},
     "output_type": "execute_result"
    }
   ],
   "source": [
    "aidspresi.columns"
   ]
  },
  {
   "cell_type": "markdown",
   "metadata": {},
   "source": [
    "## Datenspliting"
   ]
  },
  {
   "cell_type": "code",
   "execution_count": 6,
   "metadata": {},
   "outputs": [
    {
     "name": "stdout",
     "output_type": "stream",
     "text": [
      "X Train: (1497, 13)\n",
      "Y Train: (1497,)\n",
      "X Test: (642, 13)\n",
      "Y Test: (642,)\n"
     ]
    }
   ],
   "source": [
    "X=aidspresi.drop(['cid'],axis=1)\n",
    "y=aidspresi['cid']\n",
    "\n",
    "from sklearn.model_selection import train_test_split\n",
    "X_train, X_test, y_train, y_test = train_test_split(X, y, test_size=0.3,random_state=52)\n",
    "\n",
    "print('X Train: {}'.format(X_train.shape)) \n",
    "print('Y Train: {}'.format(y_train.shape)) \n",
    "print('X Test: {}'.format(X_test.shape)) \n",
    "print('Y Test: {}'.format(y_test.shape))\n"
   ]
  },
  {
   "cell_type": "markdown",
   "metadata": {},
   "source": [
    "## Verleich Trainings- und Testdaten"
   ]
  },
  {
   "cell_type": "code",
   "execution_count": 7,
   "metadata": {},
   "outputs": [],
   "source": [
    "import numpy as np\n",
    "import scipy.stats\n",
    "from scipy.stats import wilcoxon"
   ]
  },
  {
   "cell_type": "code",
   "execution_count": 8,
   "metadata": {},
   "outputs": [],
   "source": [
    "notsteti = ['trt', 'hemo', 'homo', 'drugs', 'karnof', 'zprior','race', 'gender', 'strat', 'symptom', 'cid']\n",
    "aidsnume = aidspresi.drop(notsteti, axis=1)\n"
   ]
  },
  {
   "cell_type": "code",
   "execution_count": 9,
   "metadata": {},
   "outputs": [
    {
     "name": "stdout",
     "output_type": "stream",
     "text": [
      "Feature: age, mean train: 35.30995323981296, mean test: 35.10436137071651\n",
      "Feature: wtkg, mean train: 75.24372622578491, mean test: 74.84919165109035\n",
      "Feature: cd80, mean train: 984.3974615898463, mean test: 991.8271028037383\n"
     ]
    }
   ],
   "source": [
    "def calculate_mean(dataframe, feat):\n",
    "        return np.mean(dataframe[feat].to_numpy())\n",
    "\n",
    "\n",
    "\n",
    "for feature in aidsnume.columns:\n",
    "    print(\"Feature: {}, mean train: {}, mean test: {}\".format(feature, calculate_mean(X_train, feature), calculate_mean(X_test, feature)))\n"
   ]
  },
  {
   "cell_type": "markdown",
   "metadata": {},
   "source": [
    "## Transformierung"
   ]
  },
  {
   "cell_type": "code",
   "execution_count": 10,
   "metadata": {},
   "outputs": [],
   "source": [
    "from sklearn.preprocessing import StandardScaler\n",
    "# standardisierung von `age`, `wtkg` und `cd80`\n",
    "\n",
    "scaler = StandardScaler()\n",
    "X_train['age'] = scaler.fit_transform(X_train['age'].to_numpy().reshape(-1,1))\n",
    "X_train['wtkg'] = scaler.fit_transform(X_train['wtkg'].to_numpy().reshape(-1,1))\n",
    "X_train['cd80'] = scaler.fit_transform(X_train['cd80'].to_numpy().reshape(-1,1))\n",
    "\n",
    "X_test['age'] = scaler.fit_transform(X_test['age'].to_numpy().reshape(-1,1))\n",
    "X_test['wtkg'] = scaler.fit_transform(X_test['wtkg'].to_numpy().reshape(-1,1))\n",
    "X_test['cd80'] = scaler.fit_transform(X_test['cd80'].to_numpy().reshape(-1,1))\n"
   ]
  },
  {
   "cell_type": "code",
   "execution_count": 11,
   "metadata": {},
   "outputs": [
    {
     "name": "stdout",
     "output_type": "stream",
     "text": [
      "Feature: age, mean train: -3.7971555685242497e-16, mean test: 1.7984921271186335e-17\n",
      "Feature: wtkg, mean train: -6.099181131942076e-16, mean test: -6.446902547979102e-16\n",
      "Feature: cd80, mean train: 4.805775016413503e-17, mean test: 6.087204122555375e-17\n"
     ]
    }
   ],
   "source": [
    "def calculate_mean(dataframe, feat):\n",
    "        return np.mean(dataframe[feat].to_numpy())\n",
    "\n",
    "\n",
    "\n",
    "for feature in aidsnume.columns:\n",
    "    print(\"Feature: {}, mean train: {}, mean test: {}\".format(feature, calculate_mean(X_train, feature), calculate_mean(X_test, feature)))\n"
   ]
  },
  {
   "cell_type": "markdown",
   "metadata": {},
   "source": [
    "## Support Vector Machine"
   ]
  },
  {
   "cell_type": "code",
   "execution_count": 12,
   "metadata": {},
   "outputs": [
    {
     "name": "stdout",
     "output_type": "stream",
     "text": [
      "Accuracy: 0.7398753894080997\n"
     ]
    }
   ],
   "source": [
    "from sklearn import svm\n",
    "\n",
    "#Create a svm Classifier\n",
    "clf = svm.SVC(kernel='linear') # Linear Kernel\n",
    "clf.fit(X_train, y_train) #training\n",
    "\n",
    "#Predict the response for test dataset\n",
    "y_pred = clf.predict(X_test)\n",
    "\n",
    "from sklearn import metrics\n",
    "print(\"Accuracy:\",metrics.accuracy_score(y_test, y_pred)) # how often is the classifier correct?\n"
   ]
  },
  {
   "cell_type": "code",
   "execution_count": 13,
   "metadata": {},
   "outputs": [],
   "source": [
    "import time\n",
    "import shap\n",
    "import xgboost"
   ]
  },
  {
   "cell_type": "markdown",
   "metadata": {},
   "source": [
    "## Logistische Regression"
   ]
  },
  {
   "cell_type": "code",
   "execution_count": 14,
   "metadata": {},
   "outputs": [
    {
     "name": "stdout",
     "output_type": "stream",
     "text": [
      "Accuracy Score: 0.7429906542056075\n"
     ]
    }
   ],
   "source": [
    "from sklearn.linear_model import LogisticRegression\n",
    "# training\n",
    "logreg = LogisticRegression()\n",
    "logreg.fit(X_train,y_train)\n",
    "\n",
    "#prädiction\n",
    "y_pred = logreg.predict(X_test)\n",
    "print(\"Accuracy Score: \" + str(logreg.score(X_test,y_test)))"
   ]
  },
  {
   "cell_type": "markdown",
   "metadata": {},
   "source": [
    "## Evaluation"
   ]
  },
  {
   "cell_type": "code",
   "execution_count": 15,
   "metadata": {},
   "outputs": [
    {
     "name": "stdout",
     "output_type": "stream",
     "text": [
      "Genauigkeit von Log Regression: 0.7429906542056075; running time: 0.02\n",
      "Genauigkeit von svm: 0.7398753894080997; running time: 0.05\n"
     ]
    }
   ],
   "source": [
    "\n",
    "def acu(y_pred,y_test):\n",
    "    return metrics.accuracy_score(y_test, y_pred)\n",
    "\n",
    "def train_evaluate_time(method):\n",
    "    start_time = time.time()\n",
    "    methods[method].fit(X_train, y_train)\n",
    "    running_time = round(time.time() - start_time,2)\n",
    "    model_predict = methods[method].predict(X_test)\n",
    "    model_acu = acu(model_predict,y_test)\n",
    "    print(\"Genauigkeit von {}: {}; running time: {}\".format(method, model_acu, running_time))\n",
    "\n",
    "\n",
    "methods = {\"Log Regression\": LogisticRegression(), \"svm\": svm.SVC()}\n",
    "\n",
    "\n",
    "for method in methods:\n",
    "    train_evaluate_time(method)"
   ]
  },
  {
   "cell_type": "markdown",
   "metadata": {},
   "source": [
    "## Interpretation"
   ]
  },
  {
   "cell_type": "code",
   "execution_count": null,
   "metadata": {},
   "outputs": [
    {
     "name": "stderr",
     "output_type": "stream",
     "text": [
      "Using 1497 background data samples could cause slower run times. Consider using shap.sample(data, K) or shap.kmeans(data, K) to summarize the background as K samples.\n",
      "  2%|▏         | 11/642 [1:13:02<151:22:39, 863.64s/it]"
     ]
    }
   ],
   "source": [
    "import matplotlib as plt\n",
    "# Shap value nehmen\n",
    "explainer = shap.KernelExplainer(methods[\"svm\"].predict, X_train)\n",
    "shap_values = explainer.shap_values(X_test)\n",
    "#shap_sample = explainer.shap.sample(X_test, 150)\n",
    "plt.figure(figsize=(10,10))\n",
    "plt.title(\"SHAP Values: {}\".format(method))\n",
    "shap.summary_plot(shap_sample, X_train)\n",
    "plt.show()"
   ]
  },
  {
   "cell_type": "markdown",
   "metadata": {},
   "source": []
  }
 ],
 "metadata": {
  "kernelspec": {
   "display_name": "venv",
   "language": "python",
   "name": "python3"
  },
  "language_info": {
   "codemirror_mode": {
    "name": "ipython",
    "version": 3
   },
   "file_extension": ".py",
   "mimetype": "text/x-python",
   "name": "python",
   "nbconvert_exporter": "python",
   "pygments_lexer": "ipython3",
   "version": "3.9.13"
  }
 },
 "nbformat": 4,
 "nbformat_minor": 2
}
