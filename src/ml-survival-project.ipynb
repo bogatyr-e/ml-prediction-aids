{
 "cells": [
  {
   "cell_type": "code",
   "execution_count": 2,
   "metadata": {},
   "outputs": [],
   "source": [
    "import warnings\n",
    "warnings.filterwarnings(\"ignore\")\n",
    "\n",
    "import pandas as pd\n",
    "import time\n",
    "import shap\n",
    "import xgboost\n",
    "from sklearn.preprocessing import MinMaxScaler\n",
    "\n",
    "\n",
    "# testdaten für die presi holen\n",
    "import os\n",
    "os.getcwd()\n",
    "os.chdir(os.path.abspath(os.path.join(os.getcwd(), os.pardir)))\n",
    "\n",
    "df = pd.read_csv('data/aidsenc.csv', sep =\",\")"
   ]
  },
  {
   "cell_type": "code",
   "execution_count": 2,
   "metadata": {},
   "outputs": [
    {
     "data": {
      "text/plain": [
       "(2139, 18)"
      ]
     },
     "execution_count": 2,
     "metadata": {},
     "output_type": "execute_result"
    }
   ],
   "source": [
    "df.shape"
   ]
  },
  {
   "cell_type": "code",
   "execution_count": 3,
   "metadata": {},
   "outputs": [
    {
     "data": {
      "text/plain": [
       "(18,)"
      ]
     },
     "execution_count": 3,
     "metadata": {},
     "output_type": "execute_result"
    }
   ],
   "source": [
    "df.columns.shape"
   ]
  },
  {
   "cell_type": "code",
   "execution_count": 4,
   "metadata": {},
   "outputs": [
    {
     "data": {
      "text/plain": [
       "Index(['Unnamed: 0', 'age', 'wtkg', 'karnof', 'cd80', 'cid', 'trt_1', 'trt_2',\n",
       "       'trt_3', 'hemo_1', 'homo_1', 'drugs_1', 'z30_1', 'race_1', 'gender_1',\n",
       "       'strat_2', 'strat_3', 'symptom_1'],\n",
       "      dtype='object')"
      ]
     },
     "execution_count": 4,
     "metadata": {},
     "output_type": "execute_result"
    }
   ],
   "source": [
    "df.columns"
   ]
  },
  {
   "cell_type": "markdown",
   "metadata": {},
   "source": [
    "## Datenspliting"
   ]
  },
  {
   "cell_type": "code",
   "execution_count": 3,
   "metadata": {},
   "outputs": [
    {
     "name": "stdout",
     "output_type": "stream",
     "text": [
      "X Train: (1497, 17)\n",
      "Y Train: (1497,)\n",
      "X Test: (642, 17)\n",
      "Y Test: (642,)\n"
     ]
    }
   ],
   "source": [
    "X=df.drop(['cid'],axis=1)\n",
    "y=df['cid']\n",
    "\n",
    "from sklearn.model_selection import train_test_split\n",
    "X_train, X_test, y_train, y_test = train_test_split(X, y, test_size=0.3,random_state=52)\n",
    "\n",
    "print('X Train: {}'.format(X_train.shape)) \n",
    "print('Y Train: {}'.format(y_train.shape)) \n",
    "print('X Test: {}'.format(X_test.shape)) \n",
    "print('Y Test: {}'.format(y_test.shape))\n"
   ]
  },
  {
   "cell_type": "markdown",
   "metadata": {},
   "source": [
    "## Verleich Trainings- und Testdaten"
   ]
  },
  {
   "cell_type": "code",
   "execution_count": 4,
   "metadata": {},
   "outputs": [],
   "source": [
    "import numpy as np\n",
    "import scipy.stats\n",
    "from scipy.stats import wilcoxon"
   ]
  },
  {
   "cell_type": "code",
   "execution_count": 5,
   "metadata": {},
   "outputs": [],
   "source": [
    "numset = df[['age', 'wtkg', 'karnof', 'cd80']]\n",
    "#dfnum = pd.df.select(numset, axis=1)\n"
   ]
  },
  {
   "cell_type": "code",
   "execution_count": 9,
   "metadata": {},
   "outputs": [
    {
     "data": {
      "text/html": [
       "<div>\n",
       "<style scoped>\n",
       "    .dataframe tbody tr th:only-of-type {\n",
       "        vertical-align: middle;\n",
       "    }\n",
       "\n",
       "    .dataframe tbody tr th {\n",
       "        vertical-align: top;\n",
       "    }\n",
       "\n",
       "    .dataframe thead th {\n",
       "        text-align: right;\n",
       "    }\n",
       "</style>\n",
       "<table border=\"1\" class=\"dataframe\">\n",
       "  <thead>\n",
       "    <tr style=\"text-align: right;\">\n",
       "      <th></th>\n",
       "      <th>age</th>\n",
       "      <th>wtkg</th>\n",
       "      <th>karnof</th>\n",
       "      <th>cd80</th>\n",
       "    </tr>\n",
       "  </thead>\n",
       "  <tbody>\n",
       "    <tr>\n",
       "      <th>0</th>\n",
       "      <td>48</td>\n",
       "      <td>89.8128</td>\n",
       "      <td>100</td>\n",
       "      <td>566</td>\n",
       "    </tr>\n",
       "    <tr>\n",
       "      <th>1</th>\n",
       "      <td>61</td>\n",
       "      <td>49.4424</td>\n",
       "      <td>90</td>\n",
       "      <td>392</td>\n",
       "    </tr>\n",
       "    <tr>\n",
       "      <th>2</th>\n",
       "      <td>45</td>\n",
       "      <td>88.4520</td>\n",
       "      <td>90</td>\n",
       "      <td>2063</td>\n",
       "    </tr>\n",
       "    <tr>\n",
       "      <th>3</th>\n",
       "      <td>47</td>\n",
       "      <td>85.2768</td>\n",
       "      <td>100</td>\n",
       "      <td>1590</td>\n",
       "    </tr>\n",
       "    <tr>\n",
       "      <th>4</th>\n",
       "      <td>43</td>\n",
       "      <td>66.6792</td>\n",
       "      <td>100</td>\n",
       "      <td>870</td>\n",
       "    </tr>\n",
       "  </tbody>\n",
       "</table>\n",
       "</div>"
      ],
      "text/plain": [
       "   age     wtkg  karnof  cd80\n",
       "0   48  89.8128     100   566\n",
       "1   61  49.4424      90   392\n",
       "2   45  88.4520      90  2063\n",
       "3   47  85.2768     100  1590\n",
       "4   43  66.6792     100   870"
      ]
     },
     "execution_count": 9,
     "metadata": {},
     "output_type": "execute_result"
    }
   ],
   "source": [
    "numset.head()"
   ]
  },
  {
   "cell_type": "code",
   "execution_count": 6,
   "metadata": {},
   "outputs": [
    {
     "name": "stdout",
     "output_type": "stream",
     "text": [
      "Feature: age, mean train: 35.30995323981296, mean test: 35.10436137071651\n",
      "Feature: wtkg, mean train: 75.24372622578491, mean test: 74.84919165109035\n",
      "Feature: karnof, mean train: 95.4442217768871, mean test: 95.45171339563863\n",
      "Feature: cd80, mean train: 984.3974615898463, mean test: 991.8271028037383\n"
     ]
    }
   ],
   "source": [
    "def calculate_mean(dataframe, feat):\n",
    "        return np.mean(dataframe[feat].to_numpy())\n",
    "\n",
    "\n",
    "\n",
    "for feature in numset.columns:\n",
    "    print(\"Feature: {}, mean train: {}, mean test: {}\".format(feature, calculate_mean(X_train, feature), calculate_mean(X_test, feature)))\n"
   ]
  },
  {
   "cell_type": "markdown",
   "metadata": {},
   "source": [
    "## Transformierung"
   ]
  },
  {
   "cell_type": "code",
   "execution_count": 7,
   "metadata": {},
   "outputs": [],
   "source": [
    "#from sklearn.preprocessing import MinMaxScaler\n",
    "scaler = MinMaxScaler()\n",
    "\n",
    "X_train['karnof'] = scaler.fit_transform(X_train['karnof'].to_numpy().reshape(-1,1))\n",
    "X_train['age'] = scaler.fit_transform(X_train['age'].to_numpy().reshape(-1,1))\n",
    "X_train['wtkg'] = scaler.fit_transform(X_train['wtkg'].to_numpy().reshape(-1,1))\n",
    "X_train['cd80'] = scaler.fit_transform(X_train['cd80'].to_numpy().reshape(-1,1))\n",
    "\n",
    "X_test['karnof'] = scaler.fit_transform(X_test['karnof'].to_numpy().reshape(-1,1))\n",
    "X_test['age'] = scaler.fit_transform(X_test['age'].to_numpy().reshape(-1,1))\n",
    "X_test['wtkg'] = scaler.fit_transform(X_test['wtkg'].to_numpy().reshape(-1,1))\n",
    "X_test['cd80'] = scaler.fit_transform(X_test['cd80'].to_numpy().reshape(-1,1))\n"
   ]
  },
  {
   "cell_type": "code",
   "execution_count": 8,
   "metadata": {},
   "outputs": [
    {
     "name": "stdout",
     "output_type": "stream",
     "text": [
      "Feature: age, mean train: 0.4018957455140166, mean test: 0.39835105811580196\n",
      "Feature: wtkg, mean train: 0.34313592238851587, mean test: 0.41276409118591406\n",
      "Feature: karnof, mean train: 0.8481407258962368, mean test: 0.8483904465212874\n",
      "Feature: cd80, mean train: 0.24937878573801067, mean test: 0.17538512572912152\n"
     ]
    }
   ],
   "source": [
    "def calculate_mean(dataframe, feat):\n",
    "        return np.mean(dataframe[feat].to_numpy())\n",
    "\n",
    "\n",
    "\n",
    "for feature in numset.columns:\n",
    "    print(\"Feature: {}, mean train: {}, mean test: {}\".format(feature, calculate_mean(X_train, feature), calculate_mean(X_test, feature)))\n"
   ]
  },
  {
   "cell_type": "markdown",
   "metadata": {},
   "source": [
    "## Support Vector Machine"
   ]
  },
  {
   "cell_type": "code",
   "execution_count": 13,
   "metadata": {},
   "outputs": [
    {
     "name": "stdout",
     "output_type": "stream",
     "text": [
      "Accuracy: 0.7414330218068536\n"
     ]
    }
   ],
   "source": [
    "from sklearn import svm\n",
    "\n",
    "#Create a svm Classifier\n",
    "clf = svm.SVC(kernel='linear') # Linear Kernel\n",
    "clf.fit(X_train, y_train) #training\n",
    "\n",
    "#Predict the response for test dataset\n",
    "y_pred = clf.predict(X_test)\n",
    "\n",
    "from sklearn import metrics\n",
    "print(\"Accuracy:\",metrics.accuracy_score(y_test, y_pred)) # how often is the classifier correct?\n"
   ]
  },
  {
   "cell_type": "markdown",
   "metadata": {},
   "source": [
    "## Random Forest"
   ]
  },
  {
   "cell_type": "markdown",
   "metadata": {},
   "source": [
    "## Logistische Regression"
   ]
  },
  {
   "cell_type": "code",
   "execution_count": 15,
   "metadata": {},
   "outputs": [
    {
     "name": "stdout",
     "output_type": "stream",
     "text": [
      "Accuracy Score: 0.7398753894080997\n"
     ]
    }
   ],
   "source": [
    "from sklearn.linear_model import LogisticRegression\n",
    "# training\n",
    "logreg = LogisticRegression()\n",
    "logreg.fit(X_train,y_train)\n",
    "\n",
    "#prediction\n",
    "y_pred = logreg.predict(X_test)\n",
    "print(\"Accuracy Score: \" + str(logreg.score(X_test,y_test)))"
   ]
  },
  {
   "cell_type": "markdown",
   "metadata": {},
   "source": [
    "## Evaluation"
   ]
  },
  {
   "cell_type": "code",
   "execution_count": 16,
   "metadata": {},
   "outputs": [
    {
     "name": "stdout",
     "output_type": "stream",
     "text": [
      "Genauigkeit von Log Regression: 0.7398753894080997; running time: 0.01\n",
      "Genauigkeit von svm: 0.7398753894080997; running time: 0.03\n"
     ]
    }
   ],
   "source": [
    "\n",
    "def acu(y_pred,y_test):\n",
    "    return metrics.accuracy_score(y_test, y_pred)\n",
    "\n",
    "def train_evaluate_time(method):\n",
    "    start_time = time.time()\n",
    "    methods[method].fit(X_train, y_train)\n",
    "    running_time = round(time.time() - start_time,2)\n",
    "    model_predict = methods[method].predict(X_test)\n",
    "    model_acu = acu(model_predict,y_test)\n",
    "    print(\"Genauigkeit von {}: {}; running time: {}\".format(method, model_acu, running_time))\n",
    "\n",
    "\n",
    "methods = {\"Log Regression\": LogisticRegression(), \"svm\": svm.SVC()}\n",
    "\n",
    "\n",
    "for method in methods:\n",
    "    train_evaluate_time(method)"
   ]
  },
  {
   "cell_type": "markdown",
   "metadata": {},
   "source": [
    "## Interpretation"
   ]
  },
  {
   "cell_type": "code",
   "execution_count": null,
   "metadata": {},
   "outputs": [
    {
     "name": "stderr",
     "output_type": "stream",
     "text": [
      "Using 1497 background data samples could cause slower run times. Consider using shap.sample(data, K) or shap.kmeans(data, K) to summarize the background as K samples.\n",
      "  0%|          | 3/642 [09:26<33:37:38, 189.45s/it]"
     ]
    }
   ],
   "source": [
    "import matplotlib as plt\n",
    "# Shap value nehmen\n",
    "explainer = shap.KernelExplainer(methods[\"svm\"].predict, X_train)\n",
    "shap_values = explainer.shap_values(X_test)\n",
    "#shap_sample = explainer.shap.sample(X_test, 150)\n",
    "plt.figure(figsize=(10,10))\n",
    "plt.title(\"SHAP Values: {}\".format(method))\n",
    "shap.summary_plot(shap_sample, X_train)\n",
    "plt.show()"
   ]
  },
  {
   "cell_type": "markdown",
   "metadata": {},
   "source": []
  }
 ],
 "metadata": {
  "kernelspec": {
   "display_name": "venv",
   "language": "python",
   "name": "python3"
  },
  "language_info": {
   "codemirror_mode": {
    "name": "ipython",
    "version": 3
   },
   "file_extension": ".py",
   "mimetype": "text/x-python",
   "name": "python",
   "nbconvert_exporter": "python",
   "pygments_lexer": "ipython3",
   "version": "3.9.13"
  }
 },
 "nbformat": 4,
 "nbformat_minor": 2
}
