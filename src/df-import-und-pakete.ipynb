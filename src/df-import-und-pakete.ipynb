{
 "cells": [
  {
   "cell_type": "code",
   "execution_count": 3,
   "metadata": {},
   "outputs": [],
   "source": [
    "!pip install ucimlrepo"
   ]
  },
  {
   "cell_type": "code",
   "execution_count": 4,
   "metadata": {},
   "outputs": [
    {
     "ename": "ModuleNotFoundError",
     "evalue": "No module named 'ucimlrepo'",
     "output_type": "error",
     "traceback": [
      "\u001b[1;31m---------------------------------------------------------------------------\u001b[0m",
      "\u001b[1;31mModuleNotFoundError\u001b[0m                       Traceback (most recent call last)",
      "Cell \u001b[1;32mIn[4], line 1\u001b[0m\n\u001b[1;32m----> 1\u001b[0m \u001b[38;5;28;01mfrom\u001b[39;00m\u001b[38;5;250m \u001b[39m\u001b[38;5;21;01mucimlrepo\u001b[39;00m\u001b[38;5;250m \u001b[39m\u001b[38;5;28;01mimport\u001b[39;00m fetch_ucirepo \n\u001b[0;32m      3\u001b[0m \u001b[38;5;66;03m# fetch dataset \u001b[39;00m\n\u001b[0;32m      4\u001b[0m aids_clinical_trials_group_study_175 \u001b[38;5;241m=\u001b[39m fetch_ucirepo(\u001b[38;5;28mid\u001b[39m\u001b[38;5;241m=\u001b[39m\u001b[38;5;241m890\u001b[39m) \n",
      "\u001b[1;31mModuleNotFoundError\u001b[0m: No module named 'ucimlrepo'"
     ]
    }
   ],
   "source": [
    "from ucimlrepo import fetch_ucirepo \n",
    "  \n",
    "# fetch dataset \n",
    "aids_clinical_trials_group_study_175 = fetch_ucirepo(id=890) \n",
    "  \n",
    "# data (as pandas dataframes) \n",
    "X = aids_clinical_trials_group_study_175.data.features \n",
    "y = aids_clinical_trials_group_study_175.data.targets \n",
    "  \n",
    "# metadata \n",
    "print(aids_clinical_trials_group_study_175.metadata) \n",
    "  \n",
    "# variable information \n",
    "print(aids_clinical_trials_group_study_175.variables) \n"
   ]
  },
  {
   "cell_type": "code",
   "execution_count": null,
   "metadata": {},
   "outputs": [],
   "source": [
    "y.shape"
   ]
  },
  {
   "cell_type": "code",
   "execution_count": 3,
   "metadata": {},
   "outputs": [
    {
     "data": {
      "text/plain": [
       "cid\n",
       "0      1618\n",
       "1       521\n",
       "Name: count, dtype: int64"
      ]
     },
     "execution_count": 3,
     "metadata": {},
     "output_type": "execute_result"
    }
   ],
   "source": [
    "y.value_counts()"
   ]
  },
  {
   "cell_type": "code",
   "execution_count": 10,
   "metadata": {},
   "outputs": [
    {
     "data": {
      "text/plain": [
       "(2139, 23)"
      ]
     },
     "execution_count": 10,
     "metadata": {},
     "output_type": "execute_result"
    }
   ],
   "source": [
    "X.shape"
   ]
  },
  {
   "cell_type": "code",
   "execution_count": 2,
   "metadata": {},
   "outputs": [
    {
     "name": "stdout",
     "output_type": "stream",
     "text": [
      "<class 'pandas.core.frame.DataFrame'>\n",
      "RangeIndex: 2139 entries, 0 to 2138\n",
      "Data columns (total 23 columns):\n",
      " #   Column   Non-Null Count  Dtype  \n",
      "---  ------   --------------  -----  \n",
      " 0   time     2139 non-null   int64  \n",
      " 1   trt      2139 non-null   int64  \n",
      " 2   age      2139 non-null   int64  \n",
      " 3   wtkg     2139 non-null   float64\n",
      " 4   hemo     2139 non-null   int64  \n",
      " 5   homo     2139 non-null   int64  \n",
      " 6   drugs    2139 non-null   int64  \n",
      " 7   karnof   2139 non-null   int64  \n",
      " 8   oprior   2139 non-null   int64  \n",
      " 9   z30      2139 non-null   int64  \n",
      " 10  zprior   2139 non-null   int64  \n",
      " 11  preanti  2139 non-null   int64  \n",
      " 12  race     2139 non-null   int64  \n",
      " 13  gender   2139 non-null   int64  \n",
      " 14  str2     2139 non-null   int64  \n",
      " 15  strat    2139 non-null   int64  \n",
      " 16  symptom  2139 non-null   int64  \n",
      " 17  treat    2139 non-null   int64  \n",
      " 18  offtrt   2139 non-null   int64  \n",
      " 19  cd40     2139 non-null   int64  \n",
      " 20  cd420    2139 non-null   int64  \n",
      " 21  cd80     2139 non-null   int64  \n",
      " 22  cd820    2139 non-null   int64  \n",
      "dtypes: float64(1), int64(22)\n",
      "memory usage: 384.5 KB\n"
     ]
    }
   ],
   "source": [
    "X.info()"
   ]
  },
  {
   "cell_type": "code",
   "execution_count": 4,
   "metadata": {},
   "outputs": [],
   "source": [
    "#!pip install pandas\n",
    "import pandas as pd\n"
   ]
  },
  {
   "cell_type": "code",
   "execution_count": 5,
   "metadata": {},
   "outputs": [],
   "source": [
    "# Nach der ersten Sichtung der Daten: hinzufügen des Index bei Speichern auf die lokale venv\n",
    "aidsx = X.to_csv('aidsx.csv', index=True) \n",
    "aidsy = y.to_csv('aidsy.csv', index = True)"
   ]
  },
  {
   "cell_type": "code",
   "execution_count": 7,
   "metadata": {},
   "outputs": [],
   "source": [
    "# Daten holen\n",
    "aidsx = pd.read_csv('aidsx.csv', sep =\",\")\n",
    "aidsy = pd.read_csv('aidsy.csv', sep =\",\")"
   ]
  },
  {
   "cell_type": "code",
   "execution_count": 8,
   "metadata": {},
   "outputs": [
    {
     "name": "stdout",
     "output_type": "stream",
     "text": [
      "<class 'pandas.core.frame.DataFrame'>\n",
      "RangeIndex: 2139 entries, 0 to 2138\n",
      "Data columns (total 24 columns):\n",
      " #   Column      Non-Null Count  Dtype  \n",
      "---  ------      --------------  -----  \n",
      " 0   Unnamed: 0  2139 non-null   int64  \n",
      " 1   time        2139 non-null   int64  \n",
      " 2   trt         2139 non-null   int64  \n",
      " 3   age         2139 non-null   int64  \n",
      " 4   wtkg        2139 non-null   float64\n",
      " 5   hemo        2139 non-null   int64  \n",
      " 6   homo        2139 non-null   int64  \n",
      " 7   drugs       2139 non-null   int64  \n",
      " 8   karnof      2139 non-null   int64  \n",
      " 9   oprior      2139 non-null   int64  \n",
      " 10  z30         2139 non-null   int64  \n",
      " 11  zprior      2139 non-null   int64  \n",
      " 12  preanti     2139 non-null   int64  \n",
      " 13  race        2139 non-null   int64  \n",
      " 14  gender      2139 non-null   int64  \n",
      " 15  str2        2139 non-null   int64  \n",
      " 16  strat       2139 non-null   int64  \n",
      " 17  symptom     2139 non-null   int64  \n",
      " 18  treat       2139 non-null   int64  \n",
      " 19  offtrt      2139 non-null   int64  \n",
      " 20  cd40        2139 non-null   int64  \n",
      " 21  cd420       2139 non-null   int64  \n",
      " 22  cd80        2139 non-null   int64  \n",
      " 23  cd820       2139 non-null   int64  \n",
      "dtypes: float64(1), int64(23)\n",
      "memory usage: 401.2 KB\n"
     ]
    }
   ],
   "source": [
    "aidsx.info()"
   ]
  },
  {
   "cell_type": "code",
   "execution_count": 11,
   "metadata": {},
   "outputs": [],
   "source": [
    "# nach Sichtung der Daten umbenennen der 'unnamed' Index-Variable in beiden Datensätzen\n",
    "aidsx = aidsx.rename(columns={'Unnamed: 0':'num'})\n",
    "aidsy = aidsy.rename(columns={'Unnamed: 0':'num'})"
   ]
  },
  {
   "cell_type": "code",
   "execution_count": 12,
   "metadata": {},
   "outputs": [
    {
     "data": {
      "text/plain": [
       "Index(['num', 'time', 'trt', 'age', 'wtkg', 'hemo', 'homo', 'drugs', 'karnof',\n",
       "       'oprior', 'z30', 'zprior', 'preanti', 'race', 'gender', 'str2', 'strat',\n",
       "       'symptom', 'treat', 'offtrt', 'cd40', 'cd420', 'cd80', 'cd820'],\n",
       "      dtype='object')"
      ]
     },
     "execution_count": 12,
     "metadata": {},
     "output_type": "execute_result"
    }
   ],
   "source": [
    "aidsx.columns"
   ]
  },
  {
   "cell_type": "code",
   "execution_count": 14,
   "metadata": {},
   "outputs": [
    {
     "data": {
      "text/plain": [
       "0          0\n",
       "1          1\n",
       "2          2\n",
       "3          3\n",
       "4          4\n",
       "        ... \n",
       "2134    2134\n",
       "2135    2135\n",
       "2136    2136\n",
       "2137    2137\n",
       "2138    2138\n",
       "Name: num, Length: 2139, dtype: int64"
      ]
     },
     "execution_count": 14,
     "metadata": {},
     "output_type": "execute_result"
    }
   ],
   "source": [
    "aidsx.num"
   ]
  },
  {
   "cell_type": "code",
   "execution_count": 15,
   "metadata": {},
   "outputs": [
    {
     "name": "stdout",
     "output_type": "stream",
     "text": [
      "<class 'pandas.core.frame.DataFrame'>\n",
      "RangeIndex: 2139 entries, 0 to 2138\n",
      "Data columns (total 25 columns):\n",
      " #   Column   Non-Null Count  Dtype  \n",
      "---  ------   --------------  -----  \n",
      " 0   num      2139 non-null   int64  \n",
      " 1   time     2139 non-null   int64  \n",
      " 2   trt      2139 non-null   int64  \n",
      " 3   age      2139 non-null   int64  \n",
      " 4   wtkg     2139 non-null   float64\n",
      " 5   hemo     2139 non-null   int64  \n",
      " 6   homo     2139 non-null   int64  \n",
      " 7   drugs    2139 non-null   int64  \n",
      " 8   karnof   2139 non-null   int64  \n",
      " 9   oprior   2139 non-null   int64  \n",
      " 10  z30      2139 non-null   int64  \n",
      " 11  zprior   2139 non-null   int64  \n",
      " 12  preanti  2139 non-null   int64  \n",
      " 13  race     2139 non-null   int64  \n",
      " 14  gender   2139 non-null   int64  \n",
      " 15  str2     2139 non-null   int64  \n",
      " 16  strat    2139 non-null   int64  \n",
      " 17  symptom  2139 non-null   int64  \n",
      " 18  treat    2139 non-null   int64  \n",
      " 19  offtrt   2139 non-null   int64  \n",
      " 20  cd40     2139 non-null   int64  \n",
      " 21  cd420    2139 non-null   int64  \n",
      " 22  cd80     2139 non-null   int64  \n",
      " 23  cd820    2139 non-null   int64  \n",
      " 24  cid      2139 non-null   int64  \n",
      "dtypes: float64(1), int64(24)\n",
      "memory usage: 417.9 KB\n"
     ]
    }
   ],
   "source": [
    "# Zusammenfügen der X- und y-Daten mithilfe des 'num'-Index\n",
    "aids = pd.merge(aidsx, aidsy,how='inner',on='num')\n",
    "aids.info()"
   ]
  },
  {
   "cell_type": "code",
   "execution_count": null,
   "metadata": {},
   "outputs": [],
   "source": [
    "# df speichern\n",
    "aids = aids.to_csv('data/aids.csv', index=False)\n",
    "# df holen\n",
    "aids = pd.read_csv('data/aids.csv', sep =\",\")"
   ]
  },
  {
   "cell_type": "code",
   "execution_count": 21,
   "metadata": {},
   "outputs": [
    {
     "name": "stdout",
     "output_type": "stream",
     "text": [
      "<class 'pandas.core.frame.DataFrame'>\n",
      "RangeIndex: 2139 entries, 0 to 2138\n",
      "Data columns (total 25 columns):\n",
      " #   Column   Non-Null Count  Dtype  \n",
      "---  ------   --------------  -----  \n",
      " 0   num      2139 non-null   int64  \n",
      " 1   time     2139 non-null   int64  \n",
      " 2   trt      2139 non-null   int64  \n",
      " 3   age      2139 non-null   int64  \n",
      " 4   wtkg     2139 non-null   float64\n",
      " 5   hemo     2139 non-null   int64  \n",
      " 6   homo     2139 non-null   int64  \n",
      " 7   drugs    2139 non-null   int64  \n",
      " 8   karnof   2139 non-null   int64  \n",
      " 9   oprior   2139 non-null   int64  \n",
      " 10  z30      2139 non-null   int64  \n",
      " 11  zprior   2139 non-null   int64  \n",
      " 12  preanti  2139 non-null   int64  \n",
      " 13  race     2139 non-null   int64  \n",
      " 14  gender   2139 non-null   int64  \n",
      " 15  str2     2139 non-null   int64  \n",
      " 16  strat    2139 non-null   int64  \n",
      " 17  symptom  2139 non-null   int64  \n",
      " 18  treat    2139 non-null   int64  \n",
      " 19  offtrt   2139 non-null   int64  \n",
      " 20  cd40     2139 non-null   int64  \n",
      " 21  cd420    2139 non-null   int64  \n",
      " 22  cd80     2139 non-null   int64  \n",
      " 23  cd820    2139 non-null   int64  \n",
      " 24  cid      2139 non-null   int64  \n",
      "dtypes: float64(1), int64(24)\n",
      "memory usage: 417.9 KB\n"
     ]
    }
   ],
   "source": [
    "aids.info()"
   ]
  },
  {
   "cell_type": "code",
   "execution_count": 20,
   "metadata": {},
   "outputs": [
    {
     "data": {
      "text/plain": [
       "gender  homo  cid\n",
       "1       1     0      1036\n",
       "              1       367\n",
       "        0     0       288\n",
       "0       0     0       284\n",
       "1       0     1        80\n",
       "0       0     1        73\n",
       "        1     0        10\n",
       "              1         1\n",
       "Name: count, dtype: int64"
      ]
     },
     "execution_count": 20,
     "metadata": {},
     "output_type": "execute_result"
    }
   ],
   "source": [
    "aids.value_counts([\"gender\", \"homo\",\"cid\"])"
   ]
  }
 ],
 "metadata": {
  "kernelspec": {
   "display_name": "venv",
   "language": "python",
   "name": "python3"
  },
  "language_info": {
   "codemirror_mode": {
    "name": "ipython",
    "version": 3
   },
   "file_extension": ".py",
   "mimetype": "text/x-python",
   "name": "python",
   "nbconvert_exporter": "python",
   "pygments_lexer": "ipython3",
   "version": "3.9.13"
  }
 },
 "nbformat": 4,
 "nbformat_minor": 2
}
