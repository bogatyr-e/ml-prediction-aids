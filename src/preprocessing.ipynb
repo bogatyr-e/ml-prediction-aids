{
 "cells": [
  {
   "cell_type": "markdown",
   "metadata": {},
   "source": [
    "## Pakete"
   ]
  },
  {
   "cell_type": "code",
   "execution_count": null,
   "metadata": {},
   "outputs": [],
   "source": [
    "%pip install scikit-learn"
   ]
  },
  {
   "cell_type": "code",
   "execution_count": 1,
   "metadata": {},
   "outputs": [],
   "source": [
    "import warnings\n",
    "warnings.filterwarnings(\"ignore\")\n",
    "import numpy as np\n",
    "import pandas as pd\n",
    "from sklearn.preprocessing import MinMaxScaler\n",
    "from sklearn.impute import SimpleImputer\n",
    "from sklearn.preprocessing import OneHotEncoder"
   ]
  },
  {
   "cell_type": "markdown",
   "metadata": {},
   "source": [
    "## Allgemeine Information zum Datensatz"
   ]
  },
  {
   "cell_type": "code",
   "execution_count": null,
   "metadata": {},
   "outputs": [],
   "source": [
    "# df holen\n",
    "#import pandas as pd\n",
    "#davor muss mittels `os` die directory über dem `src` für die Daten und Ergebnisse angeheftet werden\n",
    "import os\n",
    "os.getcwd()\n",
    "os.chdir(os.path.abspath(os.path.join(os.getcwd(), os.pardir)))\n",
    "\n",
    "\n",
    "aids = pd.read_csv('data/aids.csv', sep =\",\")"
   ]
  },
  {
   "cell_type": "code",
   "execution_count": 6,
   "metadata": {},
   "outputs": [
    {
     "name": "stdout",
     "output_type": "stream",
     "text": [
      "<class 'pandas.core.frame.DataFrame'>\n",
      "RangeIndex: 2139 entries, 0 to 2138\n",
      "Data columns (total 25 columns):\n",
      " #   Column   Non-Null Count  Dtype  \n",
      "---  ------   --------------  -----  \n",
      " 0   num      2139 non-null   int64  \n",
      " 1   time     2139 non-null   int64  \n",
      " 2   trt      2139 non-null   int64  \n",
      " 3   age      2139 non-null   int64  \n",
      " 4   wtkg     2139 non-null   float64\n",
      " 5   hemo     2139 non-null   int64  \n",
      " 6   homo     2139 non-null   int64  \n",
      " 7   drugs    2139 non-null   int64  \n",
      " 8   karnof   2139 non-null   int64  \n",
      " 9   oprior   2139 non-null   int64  \n",
      " 10  z30      2139 non-null   int64  \n",
      " 11  zprior   2139 non-null   int64  \n",
      " 12  preanti  2139 non-null   int64  \n",
      " 13  race     2139 non-null   int64  \n",
      " 14  gender   2139 non-null   int64  \n",
      " 15  str2     2139 non-null   int64  \n",
      " 16  strat    2139 non-null   int64  \n",
      " 17  symptom  2139 non-null   int64  \n",
      " 18  treat    2139 non-null   int64  \n",
      " 19  offtrt   2139 non-null   int64  \n",
      " 20  cd40     2139 non-null   int64  \n",
      " 21  cd420    2139 non-null   int64  \n",
      " 22  cd80     2139 non-null   int64  \n",
      " 23  cd820    2139 non-null   int64  \n",
      " 24  cid      2139 non-null   int64  \n",
      "dtypes: float64(1), int64(24)\n",
      "memory usage: 417.9 KB\n"
     ]
    }
   ],
   "source": [
    "aids.info()"
   ]
  },
  {
   "cell_type": "markdown",
   "metadata": {},
   "source": [
    "## Dictionary für das Labeling erstellen\n",
    "\n",
    "Die Beschreibung einzelner Features befindet sich im `README`. Es werden Labels für nicht kontinuerliche Features erstellt. Die Information in den Features liegt numerisch vor. Es muss kein Replacement in den Daten erfolgen."
   ]
  },
  {
   "cell_type": "code",
   "execution_count": 8,
   "metadata": {},
   "outputs": [],
   "source": [
    "trt_dict = {0: 'ZDV only', 1: 'ZDV + ddI', 2: 'ZDV + Zal', 3: 'ddI only'}\n",
    "hemo_dict = {0: 'no hemophilia', 1: 'hemophilia'}\n",
    "homo_dict = {0: 'no homosexual', 1: 'homosexual'}\n",
    "drugs_dict = {0: 'no IV drugs use', 1: 'IV drugs use'}\n",
    "oprior_dict = {0: 'no prior antiretroviral therapy (no ZDV)', 1: 'prior antiretroviral therapy (no ZDV)'}\n",
    "z30_dict = {0: 'no ZDV-Therapy 30 days befor randomisation', 1: 'ZDV-Therapy 30 days befor randomisation'}\n",
    "zprior_dict = {0: 'no ZDV-Therapy befor randomisation', 1: 'ZDV-Therapy befor randomisation'}\n",
    "race_dict = {0: 'White', 1: 'Non-White'}\n",
    "gender_dict = {0: 'Female', 1: 'Male'}\n",
    "str2_dict = {0: 'naive', 1: 'experienced'}\n",
    "strat_dict = {1: 'Antiretroviral Naive', 2: '> 1 but <= 52 weeks of prior antiretroviral therapy', 3: '> 52 weeks'}\n",
    "symptom_dict = {0: 'asymptomatic', 1: 'symtomatic'}\n",
    "treat_dict = {0: 'ZDV only', 1: 'others'}\n",
    "cid_dict = {0: 'censoring', 1: 'failure'}\n"
   ]
  },
  {
   "cell_type": "code",
   "execution_count": 9,
   "metadata": {},
   "outputs": [
    {
     "data": {
      "text/html": [
       "<div>\n",
       "<style scoped>\n",
       "    .dataframe tbody tr th:only-of-type {\n",
       "        vertical-align: middle;\n",
       "    }\n",
       "\n",
       "    .dataframe tbody tr th {\n",
       "        vertical-align: top;\n",
       "    }\n",
       "\n",
       "    .dataframe thead th {\n",
       "        text-align: right;\n",
       "    }\n",
       "</style>\n",
       "<table border=\"1\" class=\"dataframe\">\n",
       "  <thead>\n",
       "    <tr style=\"text-align: right;\">\n",
       "      <th></th>\n",
       "      <th>num</th>\n",
       "      <th>time</th>\n",
       "      <th>trt</th>\n",
       "      <th>age</th>\n",
       "      <th>wtkg</th>\n",
       "      <th>hemo</th>\n",
       "      <th>homo</th>\n",
       "      <th>drugs</th>\n",
       "      <th>karnof</th>\n",
       "      <th>oprior</th>\n",
       "      <th>...</th>\n",
       "      <th>str2</th>\n",
       "      <th>strat</th>\n",
       "      <th>symptom</th>\n",
       "      <th>treat</th>\n",
       "      <th>offtrt</th>\n",
       "      <th>cd40</th>\n",
       "      <th>cd420</th>\n",
       "      <th>cd80</th>\n",
       "      <th>cd820</th>\n",
       "      <th>cid</th>\n",
       "    </tr>\n",
       "  </thead>\n",
       "  <tbody>\n",
       "    <tr>\n",
       "      <th>0</th>\n",
       "      <td>0</td>\n",
       "      <td>948</td>\n",
       "      <td>2</td>\n",
       "      <td>48</td>\n",
       "      <td>89.8128</td>\n",
       "      <td>0</td>\n",
       "      <td>0</td>\n",
       "      <td>0</td>\n",
       "      <td>100</td>\n",
       "      <td>0</td>\n",
       "      <td>...</td>\n",
       "      <td>0</td>\n",
       "      <td>1</td>\n",
       "      <td>0</td>\n",
       "      <td>1</td>\n",
       "      <td>0</td>\n",
       "      <td>422</td>\n",
       "      <td>477</td>\n",
       "      <td>566</td>\n",
       "      <td>324</td>\n",
       "      <td>0</td>\n",
       "    </tr>\n",
       "    <tr>\n",
       "      <th>1</th>\n",
       "      <td>1</td>\n",
       "      <td>1002</td>\n",
       "      <td>3</td>\n",
       "      <td>61</td>\n",
       "      <td>49.4424</td>\n",
       "      <td>0</td>\n",
       "      <td>0</td>\n",
       "      <td>0</td>\n",
       "      <td>90</td>\n",
       "      <td>0</td>\n",
       "      <td>...</td>\n",
       "      <td>1</td>\n",
       "      <td>3</td>\n",
       "      <td>0</td>\n",
       "      <td>1</td>\n",
       "      <td>0</td>\n",
       "      <td>162</td>\n",
       "      <td>218</td>\n",
       "      <td>392</td>\n",
       "      <td>564</td>\n",
       "      <td>1</td>\n",
       "    </tr>\n",
       "    <tr>\n",
       "      <th>2</th>\n",
       "      <td>2</td>\n",
       "      <td>961</td>\n",
       "      <td>3</td>\n",
       "      <td>45</td>\n",
       "      <td>88.4520</td>\n",
       "      <td>0</td>\n",
       "      <td>1</td>\n",
       "      <td>1</td>\n",
       "      <td>90</td>\n",
       "      <td>0</td>\n",
       "      <td>...</td>\n",
       "      <td>1</td>\n",
       "      <td>3</td>\n",
       "      <td>0</td>\n",
       "      <td>1</td>\n",
       "      <td>1</td>\n",
       "      <td>326</td>\n",
       "      <td>274</td>\n",
       "      <td>2063</td>\n",
       "      <td>1893</td>\n",
       "      <td>0</td>\n",
       "    </tr>\n",
       "    <tr>\n",
       "      <th>3</th>\n",
       "      <td>3</td>\n",
       "      <td>1166</td>\n",
       "      <td>3</td>\n",
       "      <td>47</td>\n",
       "      <td>85.2768</td>\n",
       "      <td>0</td>\n",
       "      <td>1</td>\n",
       "      <td>0</td>\n",
       "      <td>100</td>\n",
       "      <td>0</td>\n",
       "      <td>...</td>\n",
       "      <td>1</td>\n",
       "      <td>3</td>\n",
       "      <td>0</td>\n",
       "      <td>1</td>\n",
       "      <td>0</td>\n",
       "      <td>287</td>\n",
       "      <td>394</td>\n",
       "      <td>1590</td>\n",
       "      <td>966</td>\n",
       "      <td>0</td>\n",
       "    </tr>\n",
       "    <tr>\n",
       "      <th>4</th>\n",
       "      <td>4</td>\n",
       "      <td>1090</td>\n",
       "      <td>0</td>\n",
       "      <td>43</td>\n",
       "      <td>66.6792</td>\n",
       "      <td>0</td>\n",
       "      <td>1</td>\n",
       "      <td>0</td>\n",
       "      <td>100</td>\n",
       "      <td>0</td>\n",
       "      <td>...</td>\n",
       "      <td>1</td>\n",
       "      <td>3</td>\n",
       "      <td>0</td>\n",
       "      <td>0</td>\n",
       "      <td>0</td>\n",
       "      <td>504</td>\n",
       "      <td>353</td>\n",
       "      <td>870</td>\n",
       "      <td>782</td>\n",
       "      <td>0</td>\n",
       "    </tr>\n",
       "  </tbody>\n",
       "</table>\n",
       "<p>5 rows × 25 columns</p>\n",
       "</div>"
      ],
      "text/plain": [
       "   num  time  trt  age     wtkg  hemo  homo  drugs  karnof  oprior  ...  str2  \\\n",
       "0    0   948    2   48  89.8128     0     0      0     100       0  ...     0   \n",
       "1    1  1002    3   61  49.4424     0     0      0      90       0  ...     1   \n",
       "2    2   961    3   45  88.4520     0     1      1      90       0  ...     1   \n",
       "3    3  1166    3   47  85.2768     0     1      0     100       0  ...     1   \n",
       "4    4  1090    0   43  66.6792     0     1      0     100       0  ...     1   \n",
       "\n",
       "   strat  symptom  treat  offtrt  cd40  cd420  cd80  cd820  cid  \n",
       "0      1        0      1       0   422    477   566    324    0  \n",
       "1      3        0      1       0   162    218   392    564    1  \n",
       "2      3        0      1       1   326    274  2063   1893    0  \n",
       "3      3        0      1       0   287    394  1590    966    0  \n",
       "4      3        0      0       0   504    353   870    782    0  \n",
       "\n",
       "[5 rows x 25 columns]"
      ]
     },
     "execution_count": 9,
     "metadata": {},
     "output_type": "execute_result"
    }
   ],
   "source": [
    "aids.head()"
   ]
  },
  {
   "cell_type": "markdown",
   "metadata": {},
   "source": [
    "## Contingency table\n",
    "\n",
    " für die kategorischen Features als Vorbereitung für die Zusammenhangs-Statistik. Es wird Fisher-Exact-Testverwendet."
   ]
  },
  {
   "cell_type": "code",
   "execution_count": 15,
   "metadata": {},
   "outputs": [],
   "source": [
    "import numpy as np\n",
    "var1 = np.array(aids[\"hemo\"])\n",
    "var2 = np.array(aids[\"homo\"])"
   ]
  },
  {
   "cell_type": "code",
   "execution_count": 57,
   "metadata": {},
   "outputs": [
    {
     "name": "stdout",
     "output_type": "stream",
     "text": [
      "Odds-Ratio: 0.02075294999063495 p-value: 3.669612705132406e-74\n"
     ]
    }
   ],
   "source": [
    "\n",
    "import statsmodels.api as sm\n",
    "import pickle\n",
    "d = {\"Hemophily\": var1, \"Homosexuality\": var2}\n",
    "d = pd.DataFrame(d)\n",
    "table = sm.stats.Table.from_data(d)\n",
    "\n",
    "from scipy import stats\n",
    "oddsratio, pvalue = stats.fisher_exact(table.table)\n",
    "print(\"Odds-Ratio:\", oddsratio, \"p-value:\", pvalue)\n"
   ]
  },
  {
   "cell_type": "markdown",
   "metadata": {},
   "source": [
    "Der Odds-Ratio von 0,021 deutet darauf hin, dass Quotenverhältnis in der 2 x 2 Tabelle nicht gleich ist. Ein p-value von 3,6 deutet auf einen Fehler hin. Das p-value liegt zwischen 0 und 1. Diesen Umstand möchte ich näher betrachten und erstelle eine 4-Felder-Tafel, eine Confusion-Matrix."
   ]
  },
  {
   "cell_type": "markdown",
   "metadata": {},
   "source": [
    "## Confusion Matrix"
   ]
  },
  {
   "cell_type": "code",
   "execution_count": 53,
   "metadata": {},
   "outputs": [],
   "source": [
    "import pandas as pd\n",
    "var1 = aids[\"hemo\"].replace(hemo_dict)\n",
    "var2 = aids[\"homo\"].replace(homo_dict)\n",
    "v1 = pd.Series(var1,name=\"Hemophilia\")\n",
    "v2 = pd.Series(var2, name=\"Homosexuality\")\n",
    "df_confusion = pd.crosstab(v1, v2, margins=False) # wenn margins=True ist, werden noch die Zeilensummen ausgegeben.\n"
   ]
  },
  {
   "cell_type": "code",
   "execution_count": 58,
   "metadata": {},
   "outputs": [
    {
     "data": {
      "text/html": [
       "<div>\n",
       "<style scoped>\n",
       "    .dataframe tbody tr th:only-of-type {\n",
       "        vertical-align: middle;\n",
       "    }\n",
       "\n",
       "    .dataframe tbody tr th {\n",
       "        vertical-align: top;\n",
       "    }\n",
       "\n",
       "    .dataframe thead th {\n",
       "        text-align: right;\n",
       "    }\n",
       "</style>\n",
       "<table border=\"1\" class=\"dataframe\">\n",
       "  <thead>\n",
       "    <tr style=\"text-align: right;\">\n",
       "      <th>Homosexuality</th>\n",
       "      <th>homosexual</th>\n",
       "      <th>no homosexual</th>\n",
       "    </tr>\n",
       "    <tr>\n",
       "      <th>Hemophilia</th>\n",
       "      <th></th>\n",
       "      <th></th>\n",
       "    </tr>\n",
       "  </thead>\n",
       "  <tbody>\n",
       "    <tr>\n",
       "      <th>hemophilia</th>\n",
       "      <td>9</td>\n",
       "      <td>171</td>\n",
       "    </tr>\n",
       "    <tr>\n",
       "      <th>no hemophilia</th>\n",
       "      <td>1405</td>\n",
       "      <td>554</td>\n",
       "    </tr>\n",
       "  </tbody>\n",
       "</table>\n",
       "</div>"
      ],
      "text/plain": [
       "Homosexuality  homosexual  no homosexual\n",
       "Hemophilia                              \n",
       "hemophilia              9            171\n",
       "no hemophilia        1405            554"
      ]
     },
     "execution_count": 58,
     "metadata": {},
     "output_type": "execute_result"
    }
   ],
   "source": [
    "df_confusion"
   ]
  },
  {
   "cell_type": "code",
   "execution_count": 50,
   "metadata": {},
   "outputs": [],
   "source": [
    "file_to_write = open(\"tables/tbl1.pickle\", \"wb\")\n",
    "pickle.dump(df_confusion, file_to_write)"
   ]
  }
 ],
 "metadata": {
  "kernelspec": {
   "display_name": "venv",
   "language": "python",
   "name": "python3"
  },
  "language_info": {
   "codemirror_mode": {
    "name": "ipython",
    "version": 3
   },
   "file_extension": ".py",
   "mimetype": "text/x-python",
   "name": "python",
   "nbconvert_exporter": "python",
   "pygments_lexer": "ipython3",
   "version": "3.9.13"
  }
 },
 "nbformat": 4,
 "nbformat_minor": 2
}
