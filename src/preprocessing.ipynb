{
 "cells": [
  {
   "cell_type": "code",
   "execution_count": 1,
   "metadata": {},
   "outputs": [],
   "source": [
    "# df holen\n",
    "import pandas as pd\n",
    "aids = pd.read_csv('data/aids.csv', sep =\",\")"
   ]
  },
  {
   "cell_type": "code",
   "execution_count": 2,
   "metadata": {},
   "outputs": [
    {
     "name": "stdout",
     "output_type": "stream",
     "text": [
      "<class 'pandas.core.frame.DataFrame'>\n",
      "RangeIndex: 2139 entries, 0 to 2138\n",
      "Data columns (total 25 columns):\n",
      " #   Column   Non-Null Count  Dtype  \n",
      "---  ------   --------------  -----  \n",
      " 0   num      2139 non-null   int64  \n",
      " 1   time     2139 non-null   int64  \n",
      " 2   trt      2139 non-null   int64  \n",
      " 3   age      2139 non-null   int64  \n",
      " 4   wtkg     2139 non-null   float64\n",
      " 5   hemo     2139 non-null   int64  \n",
      " 6   homo     2139 non-null   int64  \n",
      " 7   drugs    2139 non-null   int64  \n",
      " 8   karnof   2139 non-null   int64  \n",
      " 9   oprior   2139 non-null   int64  \n",
      " 10  z30      2139 non-null   int64  \n",
      " 11  zprior   2139 non-null   int64  \n",
      " 12  preanti  2139 non-null   int64  \n",
      " 13  race     2139 non-null   int64  \n",
      " 14  gender   2139 non-null   int64  \n",
      " 15  str2     2139 non-null   int64  \n",
      " 16  strat    2139 non-null   int64  \n",
      " 17  symptom  2139 non-null   int64  \n",
      " 18  treat    2139 non-null   int64  \n",
      " 19  offtrt   2139 non-null   int64  \n",
      " 20  cd40     2139 non-null   int64  \n",
      " 21  cd420    2139 non-null   int64  \n",
      " 22  cd80     2139 non-null   int64  \n",
      " 23  cd820    2139 non-null   int64  \n",
      " 24  cid      2139 non-null   int64  \n",
      "dtypes: float64(1), int64(24)\n",
      "memory usage: 417.9 KB\n"
     ]
    }
   ],
   "source": [
    "aids.info()"
   ]
  },
  {
   "cell_type": "code",
   "execution_count": null,
   "metadata": {},
   "outputs": [],
   "source": [
    "aids.value_counts([\"gender\", \"homo\",\"cid\"])"
   ]
  }
 ],
 "metadata": {
  "kernelspec": {
   "display_name": "venv",
   "language": "python",
   "name": "python3"
  },
  "language_info": {
   "codemirror_mode": {
    "name": "ipython",
    "version": 3
   },
   "file_extension": ".py",
   "mimetype": "text/x-python",
   "name": "python",
   "nbconvert_exporter": "python",
   "pygments_lexer": "ipython3",
   "version": "3.9.13"
  }
 },
 "nbformat": 4,
 "nbformat_minor": 2
}
