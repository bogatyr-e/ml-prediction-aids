{
 "cells": [
  {
   "cell_type": "code",
   "execution_count": 1,
   "metadata": {},
   "outputs": [],
   "source": [
    "!pip3 install -U ucimlrepo"
   ]
  },
  {
   "cell_type": "code",
   "execution_count": 1,
   "metadata": {},
   "outputs": [
    {
     "name": "stdout",
     "output_type": "stream",
     "text": [
      "{'uci_id': 890, 'name': 'AIDS Clinical Trials Group Study 175', 'repository_url': 'https://archive.ics.uci.edu/dataset/890/aids+clinical+trials+group+study+175', 'data_url': 'https://archive.ics.uci.edu/static/public/890/data.csv', 'abstract': 'The AIDS Clinical Trials Group Study 175 Dataset contains healthcare statistics and categorical information about patients who have been diagnosed with AIDS. This dataset was initially published in 1996. The prediction task is to predict whether or not each patient died within a certain window of time or not. ', 'area': 'Health and Medicine', 'tasks': ['Classification', 'Regression'], 'characteristics': ['Tabular', 'Multivariate'], 'num_instances': 2139, 'num_features': 23, 'feature_types': ['Categorical', 'Integer'], 'demographics': ['Age', 'Sexual Orientation', 'Race', 'Gender'], 'target_col': ['cid'], 'index_col': ['pidnum'], 'has_missing_values': 'no', 'missing_values_symbol': None, 'year_of_dataset_creation': 1996, 'last_updated': 'Fri Nov 03 2023', 'dataset_doi': '10.24432/C5ZG8F', 'creators': ['S. Hammer', 'D. Katzenstein', 'M. Hughes', 'H. Gundacker', 'R. Schooley', 'R. Haubrich', 'W. K.', 'M. Lederman', 'J. Phair', 'M. Niu', 'M. Hirsch', 'T. Merigan'], 'intro_paper': {'ID': 307, 'type': 'NATIVE', 'title': 'A trial comparing nucleoside monotherapy with combination therapy in HIV-infected adults with CD4 cell counts from 200 to 500 per cubic millimeter. AIDS Clinical Trials Group Study 175 Study Team.', 'authors': 'S. Hammer, D. Katzenstein, M. Hughes, H. Gundacker, R. Schooley, R. Haubrich, W. K. Henry, M. Lederman, J. Phair, M. Niu, M. Hirsch, T. Merigan', 'venue': 'New England Journal of Medicine', 'year': 1996, 'journal': None, 'DOI': None, 'URL': 'https://www.semanticscholar.org/paper/c7c401dd7d49ead07e70b299e422b27314589d2f', 'sha': None, 'corpus': None, 'arxiv': None, 'mag': None, 'acl': None, 'pmid': None, 'pmcid': None}, 'additional_info': {'summary': None, 'purpose': 'To examine the performance of two different types of AIDS treatments', 'funded_by': '- AIDS Clinical Trials Group of the National Institute of Allergy and Infectious Diseases\\n- General Research Center units funded by the National Center for Research Resources', 'instances_represent': '- Health records\\n- AIDS patients\\n- US only', 'recommended_data_splits': 'Cross validation or a single train-test split could be used.', 'sensitive_data': '- Ethnicity (race)\\n- Gender', 'preprocessing_description': 'No', 'variable_info': '- Personal information (age, weight, race, gender, sexual activity)\\n- Medical history (hemophilia, history of IV drugs)\\n- Treatment history (ZDV/non-ZDV treatment history)\\n- Lab results (CD4/CD8 counts)', 'citation': None}, 'external_url': 'https://classic.clinicaltrials.gov/ct2/show/NCT00000625'}\n",
      "       name     role        type         demographic  \\\n",
      "0    pidnum       ID     Integer                None   \n",
      "1       cid   Target      Binary                None   \n",
      "2      time  Feature     Integer                None   \n",
      "3       trt  Feature     Integer                None   \n",
      "4       age  Feature     Integer                 Age   \n",
      "5      wtkg  Feature  Continuous                None   \n",
      "6      hemo  Feature      Binary                None   \n",
      "7      homo  Feature      Binary  Sexual Orientation   \n",
      "8     drugs  Feature      Binary                None   \n",
      "9    karnof  Feature     Integer                None   \n",
      "10   oprior  Feature      Binary                None   \n",
      "11      z30  Feature      Binary                None   \n",
      "12   zprior  Feature      Binary                None   \n",
      "13  preanti  Feature     Integer                None   \n",
      "14     race  Feature     Integer                Race   \n",
      "15   gender  Feature      Binary              Gender   \n",
      "16     str2  Feature      Binary                None   \n",
      "17    strat  Feature     Integer                None   \n",
      "18  symptom  Feature      Binary                None   \n",
      "19    treat  Feature      Binary                None   \n",
      "20   offtrt  Feature      Binary                None   \n",
      "21     cd40  Feature     Integer                None   \n",
      "22    cd420  Feature     Integer                None   \n",
      "23     cd80  Feature     Integer                None   \n",
      "24    cd820  Feature     Integer                None   \n",
      "\n",
      "                                          description units missing_values  \n",
      "0                                          Patient ID  None             no  \n",
      "1    censoring indicator (1 = failure, 0 = censoring)  None             no  \n",
      "2                        time to failure or censoring  None             no  \n",
      "3   treatment indicator (0 = ZDV only; 1 = ZDV + d...  None             no  \n",
      "4                               age (yrs) at baseline  None             no  \n",
      "5                             weight (kg) at baseline  None             no  \n",
      "6                            hemophilia (0=no, 1=yes)  None             no  \n",
      "7                   homosexual activity (0=no, 1=yes)  None             no  \n",
      "8                history of IV drug use (0=no, 1=yes)  None             no  \n",
      "9               Karnofsky score (on a scale of 0-100)  None             no  \n",
      "10  Non-ZDV antiretroviral therapy pre-175 (0=no, ...  None             no  \n",
      "11      ZDV in the 30 days prior to 175 (0=no, 1=yes)  None             no  \n",
      "12                     ZDV prior to 175 (0=no, 1=yes)  None             no  \n",
      "13             # days pre-175 anti-retroviral therapy  None             no  \n",
      "14                        race (0=White, 1=non-white)  None             no  \n",
      "15                                  gender (0=F, 1=M)  None             no  \n",
      "16    antiretroviral history (0=naive, 1=experienced)  None             no  \n",
      "17  antiretroviral history stratification (1='Anti...  None             no  \n",
      "18            symptomatic indicator (0=asymp, 1=symp)  None             no  \n",
      "19         treatment indicator (0=ZDV only, 1=others)  None             no  \n",
      "20  indicator of off-trt before 96+/-5 weeks (0=no...  None             no  \n",
      "21                                    CD4 at baseline  None             no  \n",
      "22                                CD4 at 20+/-5 weeks  None             no  \n",
      "23                                    CD8 at baseline  None             no  \n",
      "24                                CD8 at 20+/-5 weeks  None             no  \n"
     ]
    }
   ],
   "source": [
    "from ucimlrepo import fetch_ucirepo \n",
    "  \n",
    "# fetch dataset \n",
    "aids_clinical_trials_group_study_175 = fetch_ucirepo(id=890) \n",
    "  \n",
    "# data (as pandas dataframes) \n",
    "X = aids_clinical_trials_group_study_175.data.features \n",
    "y = aids_clinical_trials_group_study_175.data.targets \n",
    "  \n",
    "# metadata \n",
    "print(aids_clinical_trials_group_study_175.metadata) \n",
    "  \n",
    "# variable information \n",
    "print(aids_clinical_trials_group_study_175.variables) \n"
   ]
  },
  {
   "cell_type": "code",
   "execution_count": 2,
   "metadata": {},
   "outputs": [
    {
     "data": {
      "text/plain": [
       "(2139, 1)"
      ]
     },
     "execution_count": 2,
     "metadata": {},
     "output_type": "execute_result"
    }
   ],
   "source": [
    "y.shape"
   ]
  },
  {
   "cell_type": "code",
   "execution_count": 3,
   "metadata": {},
   "outputs": [
    {
     "data": {
      "text/plain": [
       "cid\n",
       "0      1618\n",
       "1       521\n",
       "Name: count, dtype: int64"
      ]
     },
     "execution_count": 3,
     "metadata": {},
     "output_type": "execute_result"
    }
   ],
   "source": [
    "y.value_counts()"
   ]
  },
  {
   "cell_type": "code",
   "execution_count": 4,
   "metadata": {},
   "outputs": [
    {
     "data": {
      "text/plain": [
       "(2139, 23)"
      ]
     },
     "execution_count": 4,
     "metadata": {},
     "output_type": "execute_result"
    }
   ],
   "source": [
    "X.shape"
   ]
  },
  {
   "cell_type": "code",
   "execution_count": 5,
   "metadata": {},
   "outputs": [
    {
     "name": "stdout",
     "output_type": "stream",
     "text": [
      "<class 'pandas.core.frame.DataFrame'>\n",
      "RangeIndex: 2139 entries, 0 to 2138\n",
      "Data columns (total 23 columns):\n",
      " #   Column   Non-Null Count  Dtype  \n",
      "---  ------   --------------  -----  \n",
      " 0   time     2139 non-null   int64  \n",
      " 1   trt      2139 non-null   int64  \n",
      " 2   age      2139 non-null   int64  \n",
      " 3   wtkg     2139 non-null   float64\n",
      " 4   hemo     2139 non-null   int64  \n",
      " 5   homo     2139 non-null   int64  \n",
      " 6   drugs    2139 non-null   int64  \n",
      " 7   karnof   2139 non-null   int64  \n",
      " 8   oprior   2139 non-null   int64  \n",
      " 9   z30      2139 non-null   int64  \n",
      " 10  zprior   2139 non-null   int64  \n",
      " 11  preanti  2139 non-null   int64  \n",
      " 12  race     2139 non-null   int64  \n",
      " 13  gender   2139 non-null   int64  \n",
      " 14  str2     2139 non-null   int64  \n",
      " 15  strat    2139 non-null   int64  \n",
      " 16  symptom  2139 non-null   int64  \n",
      " 17  treat    2139 non-null   int64  \n",
      " 18  offtrt   2139 non-null   int64  \n",
      " 19  cd40     2139 non-null   int64  \n",
      " 20  cd420    2139 non-null   int64  \n",
      " 21  cd80     2139 non-null   int64  \n",
      " 22  cd820    2139 non-null   int64  \n",
      "dtypes: float64(1), int64(22)\n",
      "memory usage: 384.5 KB\n"
     ]
    }
   ],
   "source": [
    "X.info()"
   ]
  },
  {
   "cell_type": "code",
   "execution_count": 5,
   "metadata": {},
   "outputs": [],
   "source": [
    "#!pip install pandas\n",
    "import pandas as pd\n"
   ]
  },
  {
   "cell_type": "code",
   "execution_count": null,
   "metadata": {},
   "outputs": [],
   "source": [
    "# Nach der ersten Sichtung der Daten: hinzufügen des Index beim Speichern in der venv\n",
    "aidsx = X.to_csv('data/aidsx.csv', index=True) \n",
    "aidsy = y.to_csv('data/aidsy.csv', index = True)"
   ]
  },
  {
   "cell_type": "code",
   "execution_count": 9,
   "metadata": {},
   "outputs": [],
   "source": [
    "# Daten holen\n",
    "aidsx = pd.read_csv('data/aidsx.csv', sep =\",\")\n",
    "aidsy = pd.read_csv('data/aidsy.csv', sep =\",\")"
   ]
  },
  {
   "cell_type": "code",
   "execution_count": 10,
   "metadata": {},
   "outputs": [
    {
     "name": "stdout",
     "output_type": "stream",
     "text": [
      "<class 'pandas.core.frame.DataFrame'>\n",
      "RangeIndex: 2139 entries, 0 to 2138\n",
      "Data columns (total 24 columns):\n",
      " #   Column      Non-Null Count  Dtype  \n",
      "---  ------      --------------  -----  \n",
      " 0   Unnamed: 0  2139 non-null   int64  \n",
      " 1   time        2139 non-null   int64  \n",
      " 2   trt         2139 non-null   int64  \n",
      " 3   age         2139 non-null   int64  \n",
      " 4   wtkg        2139 non-null   float64\n",
      " 5   hemo        2139 non-null   int64  \n",
      " 6   homo        2139 non-null   int64  \n",
      " 7   drugs       2139 non-null   int64  \n",
      " 8   karnof      2139 non-null   int64  \n",
      " 9   oprior      2139 non-null   int64  \n",
      " 10  z30         2139 non-null   int64  \n",
      " 11  zprior      2139 non-null   int64  \n",
      " 12  preanti     2139 non-null   int64  \n",
      " 13  race        2139 non-null   int64  \n",
      " 14  gender      2139 non-null   int64  \n",
      " 15  str2        2139 non-null   int64  \n",
      " 16  strat       2139 non-null   int64  \n",
      " 17  symptom     2139 non-null   int64  \n",
      " 18  treat       2139 non-null   int64  \n",
      " 19  offtrt      2139 non-null   int64  \n",
      " 20  cd40        2139 non-null   int64  \n",
      " 21  cd420       2139 non-null   int64  \n",
      " 22  cd80        2139 non-null   int64  \n",
      " 23  cd820       2139 non-null   int64  \n",
      "dtypes: float64(1), int64(23)\n",
      "memory usage: 401.2 KB\n"
     ]
    }
   ],
   "source": [
    "aidsx.info()"
   ]
  },
  {
   "cell_type": "code",
   "execution_count": 11,
   "metadata": {},
   "outputs": [],
   "source": [
    "# nach Sichtung der Daten umbenennen der 'unnamed' Index-Variable in beiden Datensätzen\n",
    "aidsx = aidsx.rename(columns={'Unnamed: 0':'num'})\n",
    "aidsy = aidsy.rename(columns={'Unnamed: 0':'num'})"
   ]
  },
  {
   "cell_type": "code",
   "execution_count": 12,
   "metadata": {},
   "outputs": [
    {
     "data": {
      "text/plain": [
       "Index(['num', 'time', 'trt', 'age', 'wtkg', 'hemo', 'homo', 'drugs', 'karnof',\n",
       "       'oprior', 'z30', 'zprior', 'preanti', 'race', 'gender', 'str2', 'strat',\n",
       "       'symptom', 'treat', 'offtrt', 'cd40', 'cd420', 'cd80', 'cd820'],\n",
       "      dtype='object')"
      ]
     },
     "execution_count": 12,
     "metadata": {},
     "output_type": "execute_result"
    }
   ],
   "source": [
    "aidsx.columns # check"
   ]
  },
  {
   "cell_type": "code",
   "execution_count": 14,
   "metadata": {},
   "outputs": [
    {
     "name": "stdout",
     "output_type": "stream",
     "text": [
      "<class 'pandas.core.frame.DataFrame'>\n",
      "RangeIndex: 2139 entries, 0 to 2138\n",
      "Data columns (total 25 columns):\n",
      " #   Column   Non-Null Count  Dtype  \n",
      "---  ------   --------------  -----  \n",
      " 0   num      2139 non-null   int64  \n",
      " 1   time     2139 non-null   int64  \n",
      " 2   trt      2139 non-null   int64  \n",
      " 3   age      2139 non-null   int64  \n",
      " 4   wtkg     2139 non-null   float64\n",
      " 5   hemo     2139 non-null   int64  \n",
      " 6   homo     2139 non-null   int64  \n",
      " 7   drugs    2139 non-null   int64  \n",
      " 8   karnof   2139 non-null   int64  \n",
      " 9   oprior   2139 non-null   int64  \n",
      " 10  z30      2139 non-null   int64  \n",
      " 11  zprior   2139 non-null   int64  \n",
      " 12  preanti  2139 non-null   int64  \n",
      " 13  race     2139 non-null   int64  \n",
      " 14  gender   2139 non-null   int64  \n",
      " 15  str2     2139 non-null   int64  \n",
      " 16  strat    2139 non-null   int64  \n",
      " 17  symptom  2139 non-null   int64  \n",
      " 18  treat    2139 non-null   int64  \n",
      " 19  offtrt   2139 non-null   int64  \n",
      " 20  cd40     2139 non-null   int64  \n",
      " 21  cd420    2139 non-null   int64  \n",
      " 22  cd80     2139 non-null   int64  \n",
      " 23  cd820    2139 non-null   int64  \n",
      " 24  cid      2139 non-null   int64  \n",
      "dtypes: float64(1), int64(24)\n",
      "memory usage: 417.9 KB\n"
     ]
    }
   ],
   "source": [
    "# Zusammenfügen der X- und y-Daten mithilfe des 'num'-Index\n",
    "aids = pd.merge(aidsx, aidsy,how='inner',on='num')\n",
    "aids.info()"
   ]
  },
  {
   "cell_type": "code",
   "execution_count": 15,
   "metadata": {},
   "outputs": [],
   "source": [
    "# df speichern\n",
    "aids = aids.to_csv('data/aids.csv', index=False)\n",
    "# df holen\n",
    "aids = pd.read_csv('data/aids.csv', sep =\",\")"
   ]
  },
  {
   "cell_type": "code",
   "execution_count": 16,
   "metadata": {},
   "outputs": [
    {
     "name": "stdout",
     "output_type": "stream",
     "text": [
      "<class 'pandas.core.frame.DataFrame'>\n",
      "RangeIndex: 2139 entries, 0 to 2138\n",
      "Data columns (total 25 columns):\n",
      " #   Column   Non-Null Count  Dtype  \n",
      "---  ------   --------------  -----  \n",
      " 0   num      2139 non-null   int64  \n",
      " 1   time     2139 non-null   int64  \n",
      " 2   trt      2139 non-null   int64  \n",
      " 3   age      2139 non-null   int64  \n",
      " 4   wtkg     2139 non-null   float64\n",
      " 5   hemo     2139 non-null   int64  \n",
      " 6   homo     2139 non-null   int64  \n",
      " 7   drugs    2139 non-null   int64  \n",
      " 8   karnof   2139 non-null   int64  \n",
      " 9   oprior   2139 non-null   int64  \n",
      " 10  z30      2139 non-null   int64  \n",
      " 11  zprior   2139 non-null   int64  \n",
      " 12  preanti  2139 non-null   int64  \n",
      " 13  race     2139 non-null   int64  \n",
      " 14  gender   2139 non-null   int64  \n",
      " 15  str2     2139 non-null   int64  \n",
      " 16  strat    2139 non-null   int64  \n",
      " 17  symptom  2139 non-null   int64  \n",
      " 18  treat    2139 non-null   int64  \n",
      " 19  offtrt   2139 non-null   int64  \n",
      " 20  cd40     2139 non-null   int64  \n",
      " 21  cd420    2139 non-null   int64  \n",
      " 22  cd80     2139 non-null   int64  \n",
      " 23  cd820    2139 non-null   int64  \n",
      " 24  cid      2139 non-null   int64  \n",
      "dtypes: float64(1), int64(24)\n",
      "memory usage: 417.9 KB\n"
     ]
    }
   ],
   "source": [
    "aids.info()"
   ]
  },
  {
   "cell_type": "code",
   "execution_count": 17,
   "metadata": {},
   "outputs": [
    {
     "data": {
      "text/plain": [
       "gender  homo  cid\n",
       "1       1     0      1036\n",
       "              1       367\n",
       "        0     0       288\n",
       "0       0     0       284\n",
       "1       0     1        80\n",
       "0       0     1        73\n",
       "        1     0        10\n",
       "              1         1\n",
       "Name: count, dtype: int64"
      ]
     },
     "execution_count": 17,
     "metadata": {},
     "output_type": "execute_result"
    }
   ],
   "source": [
    "aids.value_counts([\"gender\", \"homo\",\"cid\"])"
   ]
  }
 ],
 "metadata": {
  "kernelspec": {
   "display_name": "venv",
   "language": "python",
   "name": "python3"
  },
  "language_info": {
   "codemirror_mode": {
    "name": "ipython",
    "version": 3
   },
   "file_extension": ".py",
   "mimetype": "text/x-python",
   "name": "python",
   "nbconvert_exporter": "python",
   "pygments_lexer": "ipython3",
   "version": "3.9.13"
  }
 },
 "nbformat": 4,
 "nbformat_minor": 2
}
